import numpy as np
import pandas as pd
import matplotlib.pyplot as plt

# Create some data
data = np.random.randn(100, 3)
df = pd.DataFrame(data, columns=['A', 'B', 'C'])

# Plot
df.plot(kind='line')
plt.show()
